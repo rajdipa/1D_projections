{
 "cells": [
  {
   "cell_type": "code",
   "execution_count": 1,
   "metadata": {},
   "outputs": [],
   "source": [
    "%matplotlib inline \n",
    "#%load_ext autoreload \n",
    "%reload_ext autoreload\n",
    "%autoreload 2\n",
    "\n",
    "from __future__ import (division, \n",
    "                        print_function)\n"
   ]
  },
  {
   "cell_type": "code",
   "execution_count": 2,
   "metadata": {},
   "outputs": [
    {
     "name": "stderr",
     "output_type": "stream",
     "text": [
      "/Users/RAJ/anaconda/envs/illustris_profiles/lib/python2.7/site-packages/h5py/__init__.py:34: FutureWarning: Conversion of the second argument of issubdtype from `float` to `np.floating` is deprecated. In future, it will be treated as `np.float64 == np.dtype(float).type`.\n",
      "  from ._conv import register_converters as _register_converters\n"
     ]
    }
   ],
   "source": [
    "import os\n",
    "import sys\n",
    "import copy\n",
    "\n",
    "import h5py\n",
    "import numpy as np\n",
    "import scipy\n",
    "from scipy.interpolate import interp1d\n"
   ]
  },
  {
   "cell_type": "code",
   "execution_count": 3,
   "metadata": {},
   "outputs": [],
   "source": [
    "from astropy.io import fits\n",
    "from astropy import units as u\n",
    "from astropy.stats import sigma_clip\n",
    "from astropy.table import Table, Column\n",
    "from astropy.utils.console import ProgressBar\n",
    "from astropy.convolution import convolve, Box1DKernel\n"
   ]
  },
  {
   "cell_type": "code",
   "execution_count": 4,
   "metadata": {},
   "outputs": [],
   "source": [
    "import matplotlib as mpl\n",
    "import matplotlib.mlab as ml\n",
    "import matplotlib.pyplot as plt\n",
    "import matplotlib.patches as mpatches\n",
    "import matplotlib.gridspec as gridspec\n",
    "from matplotlib.patches import Ellipse\n",
    "from matplotlib.ticker import NullFormatter, MaxNLocator, FormatStrFormatter\n",
    "from matplotlib.collections import PatchCollection\n",
    "from mpl_toolkits.axes_grid1 import make_axes_locatable\n",
    "tickFormat = FormatStrFormatter('$\\mathbf{%g}$') \n",
    "mpl.rcParams.update({'xtick.color': 'k'})\n",
    "mpl.rcParams.update({'ytick.color': 'k'})\n",
    "mpl.rcParams.update({'font.size': 20})\n",
    "\n",
    "import cosmology\n",
    "c=cosmology.Cosmo(H0=70.0, omega_m=0.3, omega_l=0.7, flat=1)\n",
    "\n"
   ]
  },
  {
   "cell_type": "markdown",
   "metadata": {},
   "source": [
    "## You need to download Song's repository. \n",
    "\n",
    "https://github.com/dr-guangtou/kungpao/tree/master/kungpao"
   ]
  },
  {
   "cell_type": "code",
   "execution_count": 6,
   "metadata": {},
   "outputs": [],
   "source": [
    "import sys\n",
    "sys.path.append('/Users/RAJ/github/kungpao') #this will vary based on the file location\n",
    "from kungpao.galsbp import galSBP\n",
    "from kungpao.display import display_single, random_cmap\n",
    "import statsmodels.api as sm\n",
    "from scipy.interpolate import interp1d \n",
    "from kungpao import io\n",
    "from kungpao import utils\n",
    "from kungpao import detection\n",
    "from kungpao import imtools\n"
   ]
  },
  {
   "cell_type": "code",
   "execution_count": 7,
   "metadata": {},
   "outputs": [],
   "source": [
    "import sep\n",
    "from palettable.colorbrewer.sequential import Greys_9, OrRd_9, Blues_9, Purples_9, YlGn_9\n",
    "BLK = Greys_9.mpl_colormap\n",
    "ORG = OrRd_9.mpl_colormap\n",
    "BLU = Blues_9.mpl_colormap\n",
    "GRN = YlGn_9.mpl_colormap"
   ]
  },
  {
   "cell_type": "markdown",
   "metadata": {},
   "source": [
    "# These locations would be different"
   ]
  },
  {
   "cell_type": "code",
   "execution_count": 8,
   "metadata": {},
   "outputs": [],
   "source": [
    "x_images = '/Users/RAJ/anaconda/envs/illustris_profiles/iraf/bin.macosx/x_images.e'\n",
    "TBL = '/Users/RAJ/anaconda/envs/illustris_profiles/iraf_extern/tables/bin.macosx/x_ttools.e'\n",
    "ISO = '/Users/RAJ/anaconda/envs/illustris_profiles/iraf_extern/stsdas/bin.macosx/x_isophote.e'"
   ]
  },
  {
   "cell_type": "code",
   "execution_count": 9,
   "metadata": {},
   "outputs": [],
   "source": [
    "kernel3 = np.asarray([[0.092163, 0.221178, 0.296069, 0.221178, 0.092163],\n",
    "                      [0.221178, 0.530797, 0.710525, 0.530797, 0.221178],\n",
    "                      [0.296069, 0.710525, 0.951108, 0.710525, 0.296069],\n",
    "                      [0.221178, 0.530797, 0.710525, 0.530797, 0.221178],\n",
    "                      [0.092163, 0.221178, 0.296069, 0.221178, 0.092163]])"
   ]
  },
  {
   "cell_type": "code",
   "execution_count": 10,
   "metadata": {},
   "outputs": [],
   "source": [
    "def get_pixel_scale(file):\n",
    "    f = h5py.File(file, 'r')\n",
    "    map_size = f['config'].attrs['map_range_min']\n",
    "    n_pixels = f['config'].attrs['map_npixel']\n",
    "    pixel_scale=2 * (map_size/n_pixels)\n",
    "\n",
    "    return pixel_scale"
   ]
  },
  {
   "cell_type": "code",
   "execution_count": 11,
   "metadata": {},
   "outputs": [],
   "source": [
    "def get_ngalaxies(file):\n",
    "    f = h5py.File(file, 'r')\n",
    "    n_galaxies = len(f['catsh_id'])\n",
    "    return n_galaxies\n"
   ]
  },
  {
   "cell_type": "markdown",
   "metadata": {},
   "source": [
    "## file locations"
   ]
  },
  {
   "cell_type": "code",
   "execution_count": 12,
   "metadata": {},
   "outputs": [],
   "source": [
    "Illustris_dir_1 = '/Users/RAJ/summer_work_2018/Illustris'\n",
    "Illustris_quick_hdf5 = os.path.join(Illustris_dir_1, 'galaxies_stellarmaps_orig_11.2.hdf5')\n",
    "Illustris_high_hdf5 = os.path.join(Illustris_dir_1, 'galaxies_stellarmaps_orig_11.2_highres.hdf5')"
   ]
  },
  {
   "cell_type": "markdown",
   "metadata": {},
   "source": [
    "# Directories for the low res and high resolution maps"
   ]
  },
  {
   "cell_type": "code",
   "execution_count": 13,
   "metadata": {},
   "outputs": [],
   "source": [
    "illustris_quick_direc = '/Users/RAJ/summer_work_2018/prof_2/quick'\n",
    "illustris_high_direc ='/Users/RAJ/summer_work_2018/prof_2/high_res'"
   ]
  },
  {
   "cell_type": "code",
   "execution_count": 14,
   "metadata": {},
   "outputs": [],
   "source": [
    "#getting the pixel scales for the high resolution and low resolution\n",
    "pixel_scale_high_res = get_pixel_scale(Illustris_high_hdf5)\n",
    "pixel_scale_quick = get_pixel_scale(Illustris_quick_hdf5)"
   ]
  },
  {
   "cell_type": "code",
   "execution_count": 15,
   "metadata": {},
   "outputs": [],
   "source": [
    "def save_to_fits(image, name):\n",
    "    \"\"\"\n",
    "    Save a 2-D array as fits image.\n",
    "    \"\"\"\n",
    "    hdu = fits.PrimaryHDU(image)\n",
    "    hdulist = fits.HDUList([hdu])\n",
    "    hdulist.writeto(name, overwrite=True)\n",
    "\n",
    "    return"
   ]
  },
  {
   "cell_type": "code",
   "execution_count": 16,
   "metadata": {},
   "outputs": [],
   "source": [
    "def get_mass_maps(sim_file,direc):\n",
    "\n",
    "    f = h5py.File(sim_file, 'r')\n",
    "    n_galaxies = len(f['catsh_id'])\n",
    "    cen_insitu = np.array(f['map_star_rho_insitu_xy'])\n",
    "    cen_exsitu = np.array(f['map_star_rho_exsitu_xy'])\n",
    "    map_stars_cen = cen_exsitu + cen_insitu \n",
    "    fuzz_insitu = np.array(f['map_star_rho_fuzz_insitu_xy'])\n",
    "    fuzz_exsitu = np.array(f['map_star_rho_fuzz_exsitu_xy'])\n",
    "    map_stars_fuzz = fuzz_exsitu + fuzz_insitu\n",
    "    sats_insitu = np.array(f['map_star_rho_oshs_insitu_xy'])\n",
    "    sats_exsitu = np.array(f['map_star_rho_oshs_exsitu_xy'])\n",
    "    map_stars_sats = sats_exsitu + sats_insitu\n",
    "    map_size = f['config'].attrs['map_range_min']\n",
    "    n_pixels = f['config'].attrs['map_npixel']\n",
    "    pixel_scale=2 * (map_size/n_pixels)\n",
    "    f.close()\n",
    "    Illustris_maps = []\n",
    "    \n",
    "    for gal_n in range(n_galaxies):\n",
    "        img_cen = map_stars_cen[gal_n] * (pixel_scale ** 2) # Central\n",
    "        img_ins = cen_insitu[gal_n] * (pixel_scale ** 2)\n",
    "        img_exs = cen_exsitu[gal_n] * (pixel_scale ** 2)\n",
    "        img_sat = map_stars_sats[gal_n] * (pixel_scale ** 2)\n",
    "        img_icl = map_stars_fuzz[gal_n] * (pixel_scale ** 2)\n",
    "        img_all = (img_cen + img_sat + img_icl)\n",
    "        \n",
    "        prefix = 'illustris_%s' % str(gal_n).strip()\n",
    "        \n",
    "        \n",
    "        # Central only \n",
    "        cen_fits = os.path.join(direc, prefix + \"_cen.fits\" )\n",
    "        _ = io.save_to_fits(img_cen, cen_fits)\n",
    "\n",
    "        # In-situ stars\n",
    "        ins_fits = os.path.join(direc, prefix + \"_ins.fits\")\n",
    "        _ = io.save_to_fits(img_ins, ins_fits)\n",
    "\n",
    "        # Ex-situ stars\n",
    "        exs_fits = os.path.join(direc, prefix + \"_exs.fits\" )\n",
    "        _ = io.save_to_fits(img_exs, exs_fits)\n",
    "\n",
    "        # Everything\n",
    "        all_fits = os.path.join(direc, prefix + \"_all.fits\" )\n",
    "        _ = io.save_to_fits(img_all, all_fits)\n",
    "\n",
    "        Illustris_maps.append(np.stack([img_cen, img_ins, img_exs, \n",
    "                                  img_all, img_sat, img_icl]))\n",
    "    \n",
    "    return Illustris_maps\n"
   ]
  },
  {
   "cell_type": "code",
   "execution_count": 17,
   "metadata": {},
   "outputs": [],
   "source": [
    "def Illustris_aperture_photometry(img, scale, img_cen_x=None, img_cen_y=None):\n",
    "    \"\"\"Aperture photometry information for Illustris high resolution galaxy.\"\"\"\n",
    "    bkg = sep.Background(img, bw=10, bh=10, fw=5, fh=5)\n",
    "    img_sub = img - bkg\n",
    "    objects = sep.extract(img_sub, 20.0, filter_kernel=kernel3)\n",
    "    \n",
    "    img_h, img_w = img_sub.shape\n",
    "    if img_cen_x is None:\n",
    "        img_cen_x = img_w / 2.0\n",
    "    if img_cen_y is None:\n",
    "        img_cen_y = img_h / 2.0\n",
    "\n",
    "    # Find the object at the center\n",
    "    index = np.argmin(np.sqrt((objects['x'] - img_cen_x) ** 2.0 + \n",
    "                              (objects['y'] - img_cen_y) ** 2.0))\n",
    "\n",
    "    # Get the naive ba, theta, xcen, ycen\n",
    "    ba = objects[index]['b'] / objects[index]['a']\n",
    "    theta = objects[index]['theta']\n",
    "    xcen, ycen = objects[index]['x'], objects[index]['y']\n",
    "    \n",
    "    # Mass within different apertures\n",
    "    rad = np.asarray([10.0, 20.0, 30.0, 40.0, 50.0, 100.0, 150.0, 200.0])\n",
    "    maper = sep.sum_ellipse(img, xcen, ycen, rad / scale, rad /scale * ba, theta, 1.0, \n",
    "                            bkgann=None, subpix=11)[0]\n",
    "\n",
    "    aper_results = {'ba': ba, 'pa': theta,\n",
    "                    'rad': rad, 'maper': np.log10(maper)}\n",
    "    \n",
    "    return aper_results"
   ]
  },
  {
   "cell_type": "code",
   "execution_count": 19,
   "metadata": {},
   "outputs": [],
   "source": [
    "def quick_aperture_photometry(img_arr,aper_results ,img_cen_x=None, img_cen_y=None):\n",
    "    apr_rs =[]\n",
    "    for i in range(len(img_arr)):\n",
    "        bkg = sep.Background(img_arr[i], bw=10, bh=10, fw=5, fh=5)\n",
    "        img_sub = img_arr[i] - bkg\n",
    "        objects = sep.extract(img_sub, 20.0, filter_kernel=kernel3)\n",
    "        ba = aper_results[i]['ba']\n",
    "        theta = aper_results[i]['pa']\n",
    "        rad = aper_results[i]['rad']\n",
    "        maper = aper_results[i]['maper']\n",
    "\n",
    "        img_h, img_w = img_sub.shape\n",
    "        if img_cen_x is None:\n",
    "            img_cen_x = img_w / 2.0\n",
    "        if img_cen_y is None:\n",
    "            img_cen_y = img_h / 2.0\n",
    "        aper_result = {'x': img_cen_x, 'y': img_cen_y, 'ba': ba, 'pa': theta,\n",
    "                        'rad': rad, 'maper':(maper)}\n",
    "        apr_rs.append(aper_result)\n",
    "\n",
    "    return apr_rs\n",
    "\n",
    "\n",
    "    "
   ]
  },
  {
   "cell_type": "code",
   "execution_count": null,
   "metadata": {},
   "outputs": [],
   "source": [
    "#making the maps\n",
    "Illustris_maps_quick = get_mass_maps(Illustris_quick_hdf5, illustris_quick_direc)\n",
    "Illustris_maps_high = get_mass_maps(Illustris_high_hdf5, illustris_high_direc)"
   ]
  },
  {
   "cell_type": "code",
   "execution_count": null,
   "metadata": {},
   "outputs": [],
   "source": [
    "#doing photometry on the high resolution maps\n",
    "Illustris_0_cen_part = [Illustris_aperture_photometry(gal[0],pixel_scale_high_res) for gal in Illustris_maps_high]\n",
    "Illustris_0_ins_part = [Illustris_aperture_photometry(gal[1],pixel_scale_high_res) for gal in Illustris_maps_high]\n",
    "Illustris_0_exs_part = [Illustris_aperture_photometry(gal[2],pixel_scale_high_res) for gal in Illustris_maps_high]"
   ]
  },
  {
   "cell_type": "code",
   "execution_count": 18,
   "metadata": {},
   "outputs": [],
   "source": [
    "#now we will do photometry on the lowres; we are using results from the highres maps for the shape and pa\n",
    "images_cen = [gal[0] for gal in Illustris_maps_quick]\n",
    "images_ins = [gal[1] for gal in Illustris_maps_quick]\n",
    "images_exs = [gal[2] for gal in Illustris_maps_quick]\n",
    "\n",
    "Illustris_0_cen_aper = quick_aperture_photometry(images_cen,Illustris_0_cen_part)\n",
    "Illustris_0_ins_aper = quick_aperture_photometry(images_ins,Illustris_0_ins_part)\n",
    "Illustris_0_exs_aper = quick_aperture_photometry(images_exs,Illustris_0_exs_part)\n"
   ]
  },
  {
   "cell_type": "code",
   "execution_count": null,
   "metadata": {},
   "outputs": [],
   "source": [
    "def get_fits_name(idx, img_type='cen', Illustris_dir):\n",
    "    \"\"\"Return the name of the FITS file.\"\"\"\n",
    "    prefix = 'illustris_%s' % str(idx).strip()\n",
    "    suffix = '_%s.fits' % (img_type)\n",
    "    \n",
    "    return os.path.join(Illustris_dir, prefix + suffix)\n",
    "\n",
    "def Illustris_get_1d_prof(fits, aper_result, isophote=ISO, xttools=TBL,\n",
    "                    pixel_scale=pixel_scale_quick):\n",
    "    \"\"\"Get Step 2 and Step 3 1-D profile.\"\"\"\n",
    "    xcen, ycen = aper_result['x'], aper_result['y']\n",
    "    ba = aper_result['ba'] \n",
    "    pa = utils.normalize_angle(aper_result['pa'] * 180.0 / np.pi + 90.0,\n",
    "                               lower=-90, upper=90, b=True)\n",
    "    \n",
    "\n",
    "    # Step 3 to get mass density profiles\n",
    "    ell_3, bin_3 = galSBP.galSBP(fits, galX=xcen, galY=ycen, \n",
    "                                 maxSma=130, iniSma=8.0, \n",
    "                                 verbose=False, savePng=False, \n",
    "                                 saveOut=True, expTime=1.0, \n",
    "                                 pix=pixel_scale, zpPhoto=0.0,\n",
    "                                 galQ=ba, galPA=pa, \n",
    "                                 stage=3, minSma=0.0, \n",
    "                                 ellipStep=0.08,\n",
    "                                 isophote=isophote, \n",
    "                                 xttools=xttools, \n",
    "                                 uppClip=2.5, lowClip=3.0, \n",
    "                                 maxTry=2, nClip=2, intMode='mean', \n",
    "                                 updateIntens=False)\n",
    "    \n",
    "    return  ell_3,bin_3\n",
    "    \n",
    "    \n",
    "def Illustris_get_1d_force(fits, binary, aper_result, isophote=ISO, xttools=TBL,\n",
    "                     pixel_scale=pixel_scale_quick):\n",
    "    \"\"\"Get Step 4 force photometry 1-D profile.\"\"\"\n",
    "    xcen, ycen = aper_result['x'], aper_result['y']\n",
    "    ba = aper_result['ba'] \n",
    "    pa = utils.normalize_angle(aper_result['pa'] * 180.0 / np.pi + 90.0,\n",
    "                               lower=-90, upper=90, b=True)\n",
    "    \n",
    "    # Step 2 to get ellipticity and position angle profiles\n",
    "    ell_4, bin_4 = galSBP.galSBP(fits, inEllip=binary, \n",
    "                                 galX=xcen, galY=ycen, \n",
    "                                 verbose=False, savePng=False, \n",
    "                                 saveOut=True, expTime=1.0, \n",
    "                                 pix=pixel_scale, zpPhoto=0.0,\n",
    "                                 stage=4, isophote=isophote, xttools=xttools, \n",
    "                                 uppClip=2.5, lowClip=3.0, \n",
    "                                 maxTry=2, nClip=2, intMode='mean', \n",
    "                                 updateIntens=False)\n",
    "    \n",
    "    return ell_4, bin_4\n",
    "\n",
    "\n",
    "def Illustris_get_1d_all(idx, aper_cen, aper_ins, aper_exs, \n",
    "                         Illustris_dir):\n",
    "    \"\"\"Get all the necessary 1-D profiles for single tng galaxy.\"\"\"\n",
    "    print(\"# Dealing with galaxy %d\" % idx)\n",
    "    \n",
    "    # Get the FITS files\n",
    "    fits_cen = get_fits_name(idx, img_type='cen', Illustris_dir=Illustris_dir)\n",
    "    fits_ins = get_fits_name(idx, img_type='ins', Illustris_dir=Illustris_dir)\n",
    "    fits_exs = get_fits_name(idx, img_type='exs', Illustris_dir=Illustris_dir)\n",
    "\n",
    "    # Step 2, Step 3 for central galaxy\n",
    "    ell_cen = Illustris_get_1d_prof(fits_cen, aper_cen)\n",
    "    ell_cen_3, bin_cen_3 = ell_cen\n",
    "\n",
    "    # Step 2, Step 3 for In-situ component\n",
    "    ell_ins = Illustris_get_1d_prof(fits_ins, aper_ins)\n",
    "    ell_ins_3,bin_ins_3 = ell_ins\n",
    "\n",
    "    # Step 2, Step 3 for Ex-situ component\n",
    "    ell_exs = Illustris_get_1d_prof(fits_exs, aper_exs)\n",
    "    ell_exs_3,  bin_exs_3 = ell_exs\n",
    "\n",
    "    # Step 4 force 1-D profiles for in-situ and ex-situ components\n",
    "    ell_ins_4, bin_ins_4 = Illustris_get_1d_force(fits_ins, bin_cen_3, aper_cen)\n",
    "    ell_exs_4, bin_exs_4 = Illustris_get_1d_force(fits_exs, bin_cen_3, aper_cen)\n",
    "    \n",
    "    return {'ell_cen_3': ell_cen_3,\n",
    "            'ell_ins_3': ell_ins_3,\n",
    "            'ell_exs_3': ell_exs_3,\n",
    "            'ell_ins_4': ell_ins_4, 'ell_exs_4': ell_exs_4,\n",
    "            'bin_cen_3': bin_cen_3}"
   ]
  },
  {
   "cell_type": "markdown",
   "metadata": {},
   "source": [
    "### Getting the profiles for low resolution map"
   ]
  },
  {
   "cell_type": "code",
   "execution_count": null,
   "metadata": {},
   "outputs": [],
   "source": [
    "Illustris_0_ell_quick = [Illustris_get_1d_all(idx,\n",
    "                            Illustris_0_cen_aper[idx], \n",
    "                            Illustris_0_ins_aper[idx], \n",
    "                            Illustris_0_exs_aper[idx], \n",
    "                            Illustris_dir=illustris_quick_direc)for idx in np.arange(n_galaxies)] "
   ]
  },
  {
   "cell_type": "markdown",
   "metadata": {},
   "source": [
    "### Getting the profiles for high resolution map"
   ]
  },
  {
   "cell_type": "code",
   "execution_count": null,
   "metadata": {},
   "outputs": [],
   "source": [
    "Illustris_0_ell_high = [Illustris_get_1d_all(idx,\n",
    "                            Illustris_0_cen_aper_part[idx], \n",
    "                            Illustris_0_ins_aper_part[idx], \n",
    "                            Illustris_0_exs_aper_part[idx], \n",
    "                            Illustris_dir=illustris_high_direc)for idx in np.arange(n_galaxies)] "
   ]
  },
  {
   "cell_type": "code",
   "execution_count": null,
   "metadata": {},
   "outputs": [],
   "source": [
    "np.save(os.path.join(illustris_quick_direc, 'Illustris_0_ell.npy'), Illustris_0_ell_quick)"
   ]
  },
  {
   "cell_type": "code",
   "execution_count": null,
   "metadata": {},
   "outputs": [],
   "source": [
    "np.save(os.path.join(illustris_high_direc, 'Illustris_0_ell.npy'), Illustris_0_ell_high)"
   ]
  },
  {
   "cell_type": "code",
   "execution_count": null,
   "metadata": {},
   "outputs": [],
   "source": []
  }
 ],
 "metadata": {
  "kernelspec": {
   "display_name": "Python 2",
   "language": "python",
   "name": "python2"
  },
  "language_info": {
   "codemirror_mode": {
    "name": "ipython",
    "version": 2
   },
   "file_extension": ".py",
   "mimetype": "text/x-python",
   "name": "python",
   "nbconvert_exporter": "python",
   "pygments_lexer": "ipython2",
   "version": "2.7.14"
  }
 },
 "nbformat": 4,
 "nbformat_minor": 1
}
